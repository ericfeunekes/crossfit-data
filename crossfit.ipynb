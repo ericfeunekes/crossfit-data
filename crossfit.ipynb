{
  "nbformat": 4,
  "nbformat_minor": 0,
  "metadata": {
    "colab": {
      "name": "crossfit.ipynb",
      "provenance": []
    },
    "kernelspec": {
      "name": "python3",
      "display_name": "Python 3"
    },
    "language_info": {
      "name": "python"
    }
  },
  "cells": [
    {
      "cell_type": "code",
      "source": [
        "%pip install tqdm httpx aiolimiter"
      ],
      "metadata": {
        "colab": {
          "base_uri": "https://localhost:8080/"
        },
        "id": "tUOtaGYwDXpb",
        "outputId": "a6883830-91f4-45db-e508-9b3ea344b1a6"
      },
      "execution_count": null,
      "outputs": [
        {
          "output_type": "stream",
          "name": "stdout",
          "text": [
            "Looking in indexes: https://pypi.org/simple, https://us-python.pkg.dev/colab-wheels/public/simple/\n",
            "Requirement already satisfied: tqdm in /usr/local/lib/python3.7/dist-packages (4.64.0)\n",
            "Requirement already satisfied: httpx in /usr/local/lib/python3.7/dist-packages (0.23.0)\n",
            "Requirement already satisfied: aiolimiter in /usr/local/lib/python3.7/dist-packages (1.0.0)\n",
            "Requirement already satisfied: sniffio in /usr/local/lib/python3.7/dist-packages (from httpx) (1.2.0)\n",
            "Requirement already satisfied: certifi in /usr/local/lib/python3.7/dist-packages (from httpx) (2022.6.15)\n",
            "Requirement already satisfied: rfc3986[idna2008]<2,>=1.3 in /usr/local/lib/python3.7/dist-packages (from httpx) (1.5.0)\n",
            "Requirement already satisfied: httpcore<0.16.0,>=0.15.0 in /usr/local/lib/python3.7/dist-packages (from httpx) (0.15.0)\n",
            "Requirement already satisfied: anyio==3.* in /usr/local/lib/python3.7/dist-packages (from httpcore<0.16.0,>=0.15.0->httpx) (3.6.1)\n",
            "Requirement already satisfied: h11<0.13,>=0.11 in /usr/local/lib/python3.7/dist-packages (from httpcore<0.16.0,>=0.15.0->httpx) (0.12.0)\n",
            "Requirement already satisfied: idna>=2.8 in /usr/local/lib/python3.7/dist-packages (from anyio==3.*->httpcore<0.16.0,>=0.15.0->httpx) (2.10)\n",
            "Requirement already satisfied: typing-extensions in /usr/local/lib/python3.7/dist-packages (from anyio==3.*->httpcore<0.16.0,>=0.15.0->httpx) (4.1.1)\n",
            "Requirement already satisfied: importlib_metadata<5.0,>=1.3 in /usr/local/lib/python3.7/dist-packages (from aiolimiter) (4.12.0)\n",
            "Requirement already satisfied: zipp>=0.5 in /usr/local/lib/python3.7/dist-packages (from importlib_metadata<5.0,>=1.3->aiolimiter) (3.8.1)\n"
          ]
        }
      ]
    },
    {
      "cell_type": "code",
      "execution_count": null,
      "metadata": {
        "id": "35XzZdjU5Lr5"
      },
      "outputs": [],
      "source": [
        "import pandas as pd\n",
        "import time\n",
        "import json\n",
        "from tqdm.notebook import tqdm\n",
        "import asyncio\n",
        "\n",
        "from pathlib import Path\n",
        "import httpx"
      ]
    },
    {
      "cell_type": "code",
      "source": [
        "params = {\n",
        "    'view':0,\n",
        "    'division':2,\n",
        "    'region':0,\n",
        "    'scaled':0,\n",
        "    'sort':0\n",
        "}\n"
      ],
      "metadata": {
        "id": "aqtjc34L5fKW"
      },
      "execution_count": null,
      "outputs": []
    },
    {
      "cell_type": "code",
      "source": [
        "async def get_results(client, url, page, year) -> httpx.Response:\n",
        "  response = await client.get(url, params={'page':page})\n",
        "  data = response.json()\n",
        "  return [{'year': year, **row} for row in data['leaderboardRows']]\n",
        "\n",
        "async def get_all_pages(client: httpx.AsyncClient, url, year):\n",
        "  all_results = []\n",
        "  response = await client.get(url, params={'page':1})\n",
        "  data = response.json()\n",
        "  totalPages = data['pagination']['totalPages']\n",
        "  \n",
        "  todo = [get_results(client, url, p, year) for p in range(1,totalPages)]\n",
        "  todo_iter = asyncio.as_completed(todo)\n",
        "  for task in tqdm(todo_iter):\n",
        "    t = await task\n",
        "    all_results += t\n",
        "  return all_results\n",
        "\n",
        "def save_results(all_results, year):\n",
        "\n",
        "  competitors = [{'year': row['year'], **row['entrant']} for row in all_results]\n",
        "  overall_scores = [{\n",
        "      'competitorId': row['entrant']['competitorId'],\n",
        "      'overallRank': row['overallRank'],\n",
        "      'overallScore': row['overallScore'],\n",
        "      'year': row['year']\n",
        "  } for row in all_results]\n",
        "  event_scores = [{'competitorId':row['entrant']['competitorId'], 'year':row['year'], **scores} for row in all_results for scores in row['scores']]\n",
        "\n",
        "  competitors_df = pd.DataFrame(competitors)\n",
        "  overall_scores_df = pd.DataFrame(overall_scores)\n",
        "  event_scores_df = pd.DataFrame(event_scores)\n",
        "\n",
        "  file_string = '/content/drive/MyDrive/data/{year}-{file_name}-{gender}.{file_type}'\n",
        "\n",
        "  # competitors_df.to_json(file_string.format(year=year,file_name='competitors', gender='female', file_type='json'))\n",
        "  competitors_df.to_parquet(file_string.format(year=year,file_name='competitors', gender='female', file_type='parquet'))\n",
        "\n",
        "  # overall_scores_df.to_json(file_string.format(year=year,file_name='overall-scores', gender='female', file_type='json'))\n",
        "  overall_scores_df.to_parquet(file_string.format(year=year,file_name='overall-scores', gender='female', file_type='parquet'))\n",
        "\n",
        "  # event_scores_df.to_json(file_string.format(year=year,file_name='event-scores', gender='female', file_type='json'))\n",
        "  event_scores_df.to_parquet(file_string.format(year=year,file_name='event-scores', gender='female', file_type='parquet'))\n",
        "\n",
        "async def main(year):\n",
        "  all_results = []\n",
        "  async with httpx.AsyncClient(params=params, timeout=600) as client:\n",
        "    # Get first page\n",
        "    url = f'https://c3po.crossfit.com/api/competitions/v2/competitions/open/{year}/leaderboards'\n",
        "    all_results += await get_all_pages(client, url, year)\n",
        "  \n",
        "  save_results(all_results, year)\n",
        "  return all_results\n"
      ],
      "metadata": {
        "id": "gcPxg1zI_Yf7"
      },
      "execution_count": null,
      "outputs": []
    },
    {
      "cell_type": "code",
      "source": [
        "todo = [asyncio.create_task(main(year)) for year in range(2020, 2023)]"
      ],
      "metadata": {
        "id": "Hjgx3j4f8x4W"
      },
      "execution_count": null,
      "outputs": []
    },
    {
      "cell_type": "code",
      "source": [
        "sum(task.done() for task in todo) / len(todo)"
      ],
      "metadata": {
        "colab": {
          "base_uri": "https://localhost:8080/"
        },
        "id": "QGWZaQ76bsyV",
        "outputId": "2c44e5a4-86f5-480f-94b8-164b73ffdb00"
      },
      "execution_count": null,
      "outputs": [
        {
          "output_type": "execute_result",
          "data": {
            "text/plain": [
              "1.0"
            ]
          },
          "metadata": {},
          "execution_count": 12
        }
      ]
    },
    {
      "cell_type": "code",
      "source": [],
      "metadata": {
        "id": "MMvX2FTsEHfM"
      },
      "execution_count": null,
      "outputs": []
    },
    {
      "cell_type": "markdown",
      "source": [],
      "metadata": {
        "id": "7BOx7DEID8Oq"
      }
    }
  ]
}